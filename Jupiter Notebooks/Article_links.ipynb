{
 "cells": [
  {
   "cell_type": "markdown",
   "id": "5bdec111",
   "metadata": {},
   "source": [
    "# Fox_News_links\n",
    "\n"
   ]
  },
  {
   "cell_type": "code",
   "execution_count": 1,
   "id": "2a4ac232",
   "metadata": {},
   "outputs": [],
   "source": [
    "dict_fox = {\n",
    "    \"a1\": \"https://www.foxnews.com/world/freed-israeli-hostage-speaks-out-terrifying-hamas-capture-describes-spiderweb-tunnels\",\n",
    "    \"a2\" : \"https://www.foxnews.com/politics/thousands-special-interest-aliens-middle-east-countries-stopped-southern-border-2021-data\",\n",
    "    \"a3\" : \"https://www.foxnews.com/politics/marines-move-middle-east-result-emerging-events\",\n",
    "    \"a4\" : \"https://www.foxnews.com/politics/blinken-suspends-plans-middle-east-trip-war-israel\",\n",
    "    \"a5\" :\"https://www.foxnews.com/politics/jake-sullivans-foreign-policy-blunders-resurface-hyping-up-middle-east-peace\",\n",
    "    \"a6\" : \"https://www.foxnews.com/world/timeline-attacks-us-forces-threats-increase-middle-east\",\n",
    "    \"a7\" :\"https://www.foxnews.com/opinion/bidens-missteps-middle-east-cost-white-house-jimmy-carter\",\n",
    "    \"a8\" : \"https://www.foxnews.com/politics/white-house-names-ex-ambassador-lebanon-turkey-us-special-envoy-middle-east-humanitarian-issues\",\n",
    "    \"a9\" : \"https://www.foxnews.com/world/putin-israel-hamas-conflict-failure-us-policy-middle-east\",\n",
    "    \"a10\" :\"https://www.foxnews.com/live-news/october-22-israel-hamas-war\",\n",
    "    \"a11\" :\"https://www.foxnews.com/media/jesse-watters-middle-east-chaotic-biden-arrived-israel\",\n",
    "    \"a12\" :\"https://www.foxnews.com/media/bidens-nsa-pressed-previous-comments-quieter-middle-east-so-far-off-mark\",\n",
    "    \"a13\" :\"https://www.foxnews.com/media/sean-hannity-if-iran-gets-directly-involved-all-bets-are-off-middle-east\",\n",
    "    \"a14\" :\"https://www.foxnews.com/politics/rep-pramila-jayapal-appears-label-hamas-attack-israel-ongoing-situation-middle-east\",\n",
    "    \"a15\" :\"https://www.foxnews.com/politics/democrats-support-palestinians-over-israel-gop-overwhelmingly-stands-us-ally-2023-poll\",\n",
    "    \"a16\" :\"https://www.foxnews.com/politics/defense-secretary-issues-plan-bolster-regional-deterrence-efforts-move-warships-increase-forces\",\n",
    "    \"a17\" :\"https://www.foxnews.com/politics/ramaswamy-offers-us-strategy-plan-israel-blasts-gop-contenders-lack-pragmatic-solutions\",\n",
    "    \"a18\" :\"https://www.foxnews.com/politics/pentagon-officials-say-attacks-us-troops-iranian-fingerprints\",\n",
    "    \"a19\" :\"https://www.foxnews.com/world/us-embassy-baghdad-orders-departure-some-non-essential-personnel-increased-security-concerns\",\n",
    "    \"a20\" :\"https://www.foxnews.com/world/blinken-says-us-ready-get-involved-israel-hamas-war-line-crossed-we-wont-hesitate\",\n",
    "    \"a21\" :\"https://www.foxnews.com/world/drone-strikes-target-us-military-bases-syria-iraq-regional-tensions-israel-hamas-war-escalate\",\n",
    "    \"a22\" :\"https://www.foxnews.com/live-news/hamas-attack-israel-war\",\n",
    "    \"a23\" :\"https://www.foxnews.com/world/iran-threatens-israel-looming-ground-offensive-gaza-report\",\n",
    "    \"a24\" :\"https://www.foxnews.com/politics/mcconnell-calls-china-russia-iran-new-axis-evil-us-must-deal-emergency\",\n",
    "    \"a25\" :\"https://www.foxnews.com/media/white-house-spox-pressed-iran-6-billion-unfrozen-funds-hamas-unleashes-terror-israel\",\n",
    "    \"a26\" :\"https://www.foxnews.com/politics/50-cent-rips-biden-delaware-beach-trip-amid-israel-hamas-war\",\n",
    "    \"a27\" :\"https://www.foxnews.com/world/american-families-israel-agony-fears-loved-ones-kidnapped-grow\",\n",
    "    \"a28\" :\"https://www.foxnews.com/politics/white-house-silent-biden-officials-pro-palestine-post-bloodshed-israel\",\n",
    "    \"a29\" :\"https://www.foxnews.com/media/better-job-americans-grade-president-bidens-handling-war-israel\",\n",
    "    \"a30\" :\"https://www.foxnews.com/politics/bidens-depletion-emergency-oil-stocks-comes-back-focus-israel-hamas-war-price-surge\"\n",
    "    \n",
    "    \n",
    "}"
   ]
  },
  {
   "cell_type": "markdown",
   "id": "026e6a54",
   "metadata": {},
   "source": [
    "# CNN_Links\n"
   ]
  },
  {
   "cell_type": "code",
   "execution_count": null,
   "id": "4734af73",
   "metadata": {},
   "outputs": [],
   "source": [
    "dict_cnn = {\n",
    "\"a1\" : \"https://edition.cnn.com/2023/10/24/middleeast/israel-hostages-freed-lifshitz-cooper-intl-hnk/index.html\",\n",
    "\"a2\" : \"https://edition.cnn.com/2023/10/24/middleeast/israel-hamas-gaza-war-tuesday-intl-hnk/index.html\",\n",
    "\"a3\" : \"https://edition.cnn.com/2023/10/23/middleeast/gaza-hospitals-doctors-disaster-intl-hnk/index.html\",\n",
    "\"a4\" : \"https://edition.cnn.com/middleeast/live-news/israel-hamas-war-gaza-news-10-24-23/index.html\",\n",
    "\"a5\" : \"https://edition.cnn.com/2023/10/23/middleeast/israel-gaza-hamas-war-monday-intl-hnk/index.html\",\n",
    "\"a6\" : \"https://edition.cnn.com/2023/10/17/middleeast/rafah-border-crossing-gaza-israel-explained-intl/index.html\",\n",
    "\"a7\" : \"https://edition.cnn.com/2023/10/21/middleeast/israel-hamas-war-gaza-future-intl/index.html\",\n",
    "\"a8\" : \"https://edition.cnn.com/2023/10/20/middleeast/israel-gaza-hamas-war-friday-intl-hnk/index.html\",\n",
    "\"a9\" : \"https://edition.cnn.com/2023/10/17/middleeast/pregnant-women-suffer-gaza-war-mime-intl/index.html\",\n",
    "\"a10\" : \"https://edition.cnn.com/middleeast/live-news/israel-hamas-war-gaza-news-10-19-23/index.html\",\n",
    "\"a11\" : \"https://edition.cnn.com/2023/10/20/middleeast/us-middle-east-danger-israel-hamas-war-mime-intl-hnk/index.html\",\n",
    "\"a12\" : \"https://edition.cnn.com/2023/10/19/middleeast/hezbollah-explainer-intl/index.html\",\n",
    "\"a13\" : \"https://edition.cnn.com/2023/10/18/middleeast/israel-gaza-hamas-war-wednesday-intl-hnk/index.html\",\n",
    "\"a14\" : \"https://edition.cnn.com/2023/10/19/middleeast/syrian-generals-indicted-france-intl-cmd/index.html\",\n",
    "\"a15\" : \"https://edition.cnn.com/2023/10/16/middleeast/israel-hamas-gaza-war-explained-week-2-mime-intl/index.html\",\n",
    "\"a16\" : \"https://edition.cnn.com/2023/10/15/middleeast/hamas-tunnels-gaza-intl/index.html\",\n",
    "\"a17\" : \"https://edition.cnn.com/2023/10/18/middleeast/hamas-documents-invs/index.html\",\n",
    "\"a18\" : \"https://edition.cnn.com/2023/10/18/middleeast/gaza-water-access-supply-mapped-dg/index.html\",\n",
    "\"a19\" : \"https://edition.cnn.com/2023/10/23/china/china-middle-east-envoy-mediation-intl-hnk/index.html\",\n",
    "\"a20\" : \"https://edition.cnn.com/2023/10/22/politics/lloyd-austin-israel-middle-east/index.html\",\n",
    "\"a21\" : \"https://edition.cnn.com/2023/10/23/politics/iranian-militias-israel-hamas/index.html\",\n",
    "\"a22\" : \"https://edition.cnn.com/2023/10/20/middleeast/protests-palestinian-gaza-middle-east-int/index.html\",\n",
    "\"a23\" : \"https://edition.cnn.com/2023/10/20/middleeast/israel-gaza-hamas-war-friday-intl-hnk/index.html\",\n",
    "\"a24\" : \"https://edition.cnn.com/2023/10/19/middleeast/west-bank-settler-attacks-israel-cmd-intl/index.html\",\n",
    "\"a25\" : \"https://edition.cnn.com/2023/10/18/politics/middle-east-conflict-biden-israel/index.html\",\n",
    "\"a26\" : \"https://edition.cnn.com/2023/10/18/middleeast/arab-allies-snub-biden-gaza-mime-intl/index.html\",\n",
    "\"a27\" : \"https://edition.cnn.com/2023/10/18/middleeast/gaza-hospital-blast-middle-east-protests-intl-hnk/index.html\",\n",
    "\"a28\" : \"https://edition.cnn.com/2023/10/18/middleeast/israel-gaza-hamas-war-wednesday-intl-hnk/index.html\",\n",
    "\"a29\" : \"https://edition.cnn.com/2023/10/17/politics/biden-middle-east-mission-turmoil/index.html\",\n",
    "\"a30\" : \"https://edition.cnn.com/2023/10/17/middleeast/rafah-border-crossing-gaza-israel-explained-intl/index.html\"}"
   ]
  },
  {
   "cell_type": "markdown",
   "id": "266f6c41",
   "metadata": {},
   "source": [
    "# BBC_Links"
   ]
  },
  {
   "cell_type": "code",
   "execution_count": 2,
   "id": "9afc2f25",
   "metadata": {},
   "outputs": [],
   "source": [
    "dict_bbc = {\n",
    "\"b1\" : \"https://www.bbc.com/news/world-middle-east-67201107\",\n",
    "\"b2\" : \"https://www.bbc.com/news/world-middle-east-67039975\",\n",
    "\"b3\" : \"https://www.bbc.com/news/newsbeat-44124396\",\n",
    "\"b4\" : \"https://www.bbc.com/news/world-middle-east-67053011\",\n",
    "\"b5\" : \"https://www.bbc.com/news/world-middle-east-67128533\",\n",
    "\"b6\" : \"https://www.bbc.com/news/world-middle-east-20415675\",\n",
    "\"b7\" : \"https://www.bbc.com/news/world-middle-east-67204479\",\n",
    "\"b8\" : \"https://www.bbc.com/news/uk-67195174\",\n",
    "\"b9\" : \"https://www.bbc.com/news/world-middle-east-67188346\",\n",
    "\"b10\" : \"https://www.bbc.com/news/world-middle-east-67165002\",\n",
    "\"b11\" : \"https://www.bbc.com/news/world-middle-east-67194485\",\n",
    "\"b12\" : \"https://www.bbc.com/news/uk-67198938\",\n",
    "\"b13\" : \"https://www.bbc.com/news/uk-england-london-67197942\",\n",
    "\"b14\" : \"https://www.bbc.com/news/world-middle-east-67192885\",\n",
    "\"b15\" : \"https://www.bbc.com/news/newsbeat-44124396\",\n",
    "\"b16\" : \"https://www.bbc.com/news/uk-england-lancashire-67195869\",\n",
    "\"b17\" : \"https://www.bbc.com/news/uk-scotland-scotland-politics-67191515\",\n",
    "\"b18\" : \"https://www.bbc.com/news/uk-67120546\",\n",
    "\"b19\" : \"https://www.bbc.com/news/articles/c2x8255n0kzo\",\n",
    "\"b20\" : \"https://www.bbc.com/news/world-middle-east-67186181\",\n",
    "\"b21\" : \"https://www.bbc.com/news/world-us-canada-67175483\",\n",
    "\"b22\" : \"https://www.bbc.com/news/uk-67182116\",\n",
    "\"b23\" : \"https://www.bbc.com/news/uk-england-manchester-67181612\",\n",
    "\"b24\" : \"https://www.bbc.com/news/world-middle-east-67186178\",\n",
    "\"b25\" : \"https://www.bbc.com/news/live/world-middle-east-67185260\",\n",
    "\"b26\" : \"https://www.bbc.com/news/uk-northern-ireland-67180423\",\n",
    "\"b27\" : \"https://www.bbc.com/news/world-middle-east-67173344\",\n",
    "\"b28\" : \"https://www.bbc.com/news/world-us-canada-67164900\",\n",
    "\"b29\" : \"https://www.bbc.com/news/world-middle-east-67148622\",\n",
    "\"b30\" : \"https://www.bbc.com/news/67081651\"}"
   ]
  },
  {
   "cell_type": "code",
   "execution_count": null,
   "id": "89a6ac4a",
   "metadata": {},
   "outputs": [],
   "source": []
  }
 ],
 "metadata": {
  "kernelspec": {
   "display_name": "Python 3 (ipykernel)",
   "language": "python",
   "name": "python3"
  },
  "language_info": {
   "codemirror_mode": {
    "name": "ipython",
    "version": 3
   },
   "file_extension": ".py",
   "mimetype": "text/x-python",
   "name": "python",
   "nbconvert_exporter": "python",
   "pygments_lexer": "ipython3",
   "version": "3.11.4"
  }
 },
 "nbformat": 4,
 "nbformat_minor": 5
}
