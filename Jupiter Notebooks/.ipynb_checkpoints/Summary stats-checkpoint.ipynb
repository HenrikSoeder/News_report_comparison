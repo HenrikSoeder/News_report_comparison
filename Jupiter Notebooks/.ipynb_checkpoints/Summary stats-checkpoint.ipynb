{
 "cells": [
  {
   "cell_type": "markdown",
   "id": "198c4262",
   "metadata": {},
   "source": [
    "## Analysis"
   ]
  },
  {
   "cell_type": "code",
   "execution_count": 2,
   "id": "682e9673",
   "metadata": {},
   "outputs": [],
   "source": [
    "import pandas as pd\n",
    "\n",
    "cnn1 = pd.read_csv(\"cnn.csv\")\n",
    "bbc = pd.read_csv(\"bbc.csv\")\n",
    "fox = pd.read_csv(\"fox.csv\")\n",
    "text = pd.concat([cnn1[\"Text\"],bbc[\"Text\"], fox[\"Text\"]],ignore_index=True)"
   ]
  },
  {
   "cell_type": "code",
   "execution_count": 3,
   "id": "6b5d4932",
   "metadata": {},
   "outputs": [
    {
     "data": {
      "text/html": [
       "<div>\n",
       "<style scoped>\n",
       "    .dataframe tbody tr th:only-of-type {\n",
       "        vertical-align: middle;\n",
       "    }\n",
       "\n",
       "    .dataframe tbody tr th {\n",
       "        vertical-align: top;\n",
       "    }\n",
       "\n",
       "    .dataframe thead th {\n",
       "        text-align: right;\n",
       "    }\n",
       "</style>\n",
       "<table border=\"1\" class=\"dataframe\">\n",
       "  <thead>\n",
       "    <tr style=\"text-align: right;\">\n",
       "      <th></th>\n",
       "      <th>News Site</th>\n",
       "      <th>Text lenght</th>\n",
       "      <th>Gaza</th>\n",
       "      <th>Palestine</th>\n",
       "      <th>Israel</th>\n",
       "      <th>Hamas</th>\n",
       "      <th>Netanyahu</th>\n",
       "      <th>Terrorism</th>\n",
       "      <th>Migration</th>\n",
       "      <th>Attacks</th>\n",
       "      <th>Hostages</th>\n",
       "      <th>Killed</th>\n",
       "      <th>Air Strike</th>\n",
       "      <th>Biden</th>\n",
       "    </tr>\n",
       "  </thead>\n",
       "  <tbody>\n",
       "    <tr>\n",
       "      <th>0</th>\n",
       "      <td>CNN</td>\n",
       "      <td>6486.53</td>\n",
       "      <td>4.17</td>\n",
       "      <td>0.23</td>\n",
       "      <td>11.97</td>\n",
       "      <td>2.25</td>\n",
       "      <td>0.78</td>\n",
       "      <td>0.11</td>\n",
       "      <td>0.05</td>\n",
       "      <td>2.26</td>\n",
       "      <td>0.25</td>\n",
       "      <td>1.48</td>\n",
       "      <td>0.03</td>\n",
       "      <td>1.44</td>\n",
       "    </tr>\n",
       "    <tr>\n",
       "      <th>1</th>\n",
       "      <td>BBC</td>\n",
       "      <td>5619.04</td>\n",
       "      <td>6.63</td>\n",
       "      <td>0.82</td>\n",
       "      <td>16.95</td>\n",
       "      <td>6.60</td>\n",
       "      <td>0.87</td>\n",
       "      <td>0.15</td>\n",
       "      <td>0.01</td>\n",
       "      <td>3.93</td>\n",
       "      <td>1.54</td>\n",
       "      <td>2.02</td>\n",
       "      <td>0.60</td>\n",
       "      <td>0.88</td>\n",
       "    </tr>\n",
       "    <tr>\n",
       "      <th>2</th>\n",
       "      <td>Fox News</td>\n",
       "      <td>10586.20</td>\n",
       "      <td>8.25</td>\n",
       "      <td>0.74</td>\n",
       "      <td>33.02</td>\n",
       "      <td>17.18</td>\n",
       "      <td>1.90</td>\n",
       "      <td>1.05</td>\n",
       "      <td>0.07</td>\n",
       "      <td>10.71</td>\n",
       "      <td>2.23</td>\n",
       "      <td>3.18</td>\n",
       "      <td>0.29</td>\n",
       "      <td>4.38</td>\n",
       "    </tr>\n",
       "  </tbody>\n",
       "</table>\n",
       "</div>"
      ],
      "text/plain": [
       "  News Site  Text lenght  Gaza  Palestine  Israel  Hamas  Netanyahu  \\\n",
       "0       CNN      6486.53  4.17       0.23   11.97   2.25       0.78   \n",
       "1       BBC      5619.04  6.63       0.82   16.95   6.60       0.87   \n",
       "2  Fox News     10586.20  8.25       0.74   33.02  17.18       1.90   \n",
       "\n",
       "   Terrorism  Migration  Attacks  Hostages  Killed  Air Strike  Biden  \n",
       "0       0.11       0.05     2.26      0.25    1.48        0.03   1.44  \n",
       "1       0.15       0.01     3.93      1.54    2.02        0.60   0.88  \n",
       "2       1.05       0.07    10.71      2.23    3.18        0.29   4.38  "
      ]
     },
     "execution_count": 3,
     "metadata": {},
     "output_type": "execute_result"
    }
   ],
   "source": [
    "##Grouping\n",
    "\n",
    "summary_df = {}\n",
    "list_s = [cnn1, bbc, fox]\n",
    "index = 0\n",
    "for cnn in list_s:\n",
    "    summary_df[index]={\"News Site\": cnn[\"Source\"][0],\"Text lenght\": cnn[\"Text lenght\"].mean(), \"Gaza\": cnn[\"Gaza\"].mean(), \"Palestine\": cnn[\"Palestine\"].mean(),\n",
    "                      \"Israel\": cnn[\"Israel\"].mean(), \"Hamas\": cnn[\"Hamas\"].mean(), \"Netanyahu\": cnn[\"Netanyahu\"].mean(),\n",
    "                      \"Terrorism\": cnn[\"Terrorism\"].mean(), \"Migration\": cnn[\"Migration\"].mean(), \"Attacks\": cnn[\"Attacks\"].mean(),\n",
    "                       \"Hostages\": cnn[\"Hostages\"].mean(), \"Killed\": cnn[\"Killed\"].mean(), \"Air Strike\": cnn[\"Air Strike\"].mean(),\n",
    "                      \"Biden\": cnn[\"Biden\"].mean()}\n",
    "    index +=1\n",
    "summary_df = pd.DataFrame.from_dict(summary_df, orient=\"index\")\n",
    "summary_df"
   ]
  },
  {
   "cell_type": "code",
   "execution_count": 4,
   "id": "4f5ae00e",
   "metadata": {},
   "outputs": [],
   "source": [
    "summary_df.to_csv('summary_df.csv')"
   ]
  },
  {
   "cell_type": "code",
   "execution_count": null,
   "id": "0912dbb9",
   "metadata": {},
   "outputs": [],
   "source": []
  }
 ],
 "metadata": {
  "kernelspec": {
   "display_name": "Python 3 (ipykernel)",
   "language": "python",
   "name": "python3"
  },
  "language_info": {
   "codemirror_mode": {
    "name": "ipython",
    "version": 3
   },
   "file_extension": ".py",
   "mimetype": "text/x-python",
   "name": "python",
   "nbconvert_exporter": "python",
   "pygments_lexer": "ipython3",
   "version": "3.11.3"
  }
 },
 "nbformat": 4,
 "nbformat_minor": 5
}
