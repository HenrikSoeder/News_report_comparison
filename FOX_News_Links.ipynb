{
 "cells": [
  {
   "cell_type": "markdown",
   "id": "5bdec111",
   "metadata": {},
   "source": [
    "# Fox_News_links\n",
    "\n"
   ]
  },
  {
   "cell_type": "code",
   "execution_count": null,
   "id": "13a28e40",
   "metadata": {},
   "outputs": [],
   "source": [
    "article1 = \"https://www.foxnews.com/world/freed-israeli-hostage-speaks-out-terrifying-hamas-capture-describes-spiderweb-tunnels\"\n",
    "aritlce2 = \"https://www.foxnews.com/politics/thousands-special-interest-aliens-middle-east-countries-stopped-southern-border-2021-data\"\n",
    "article3 = \"https://www.foxnews.com/politics/marines-move-middle-east-result-emerging-events\"\n",
    "article4 = \"https://www.foxnews.com/politics/blinken-suspends-plans-middle-east-trip-war-israel\"\n",
    "article5 = \"https://www.foxnews.com/politics/jake-sullivans-foreign-policy-blunders-resurface-hyping-up-middle-east-peace\"\n",
    "article6= \"https://www.foxnews.com/world/timeline-attacks-us-forces-threats-increase-middle-east\"\n",
    "article7= \"https://www.foxnews.com/opinion/bidens-missteps-middle-east-cost-white-house-jimmy-carter\"\n",
    "article8= \"https://www.foxnews.com/politics/white-house-names-ex-ambassador-lebanon-turkey-us-special-envoy-middle-east-humanitarian-issues\"\n",
    "article9= \"https://www.foxnews.com/world/putin-israel-hamas-conflict-failure-us-policy-middle-east\"\n",
    "article10= \"https://www.foxnews.com/live-news/october-22-israel-hamas-war\"\n",
    "article11= \"https://www.foxnews.com/media/jesse-watters-middle-east-chaotic-biden-arrived-israel\"\n",
    "article12= \"https://www.foxnews.com/media/bidens-nsa-pressed-previous-comments-quieter-middle-east-so-far-off-mark\"\n",
    "article13= \"https://www.foxnews.com/media/sean-hannity-if-iran-gets-directly-involved-all-bets-are-off-middle-east\"\n",
    "article14= \"https://www.foxnews.com/politics/rep-pramila-jayapal-appears-label-hamas-attack-israel-ongoing-situation-middle-east\"\n",
    "article15= \"https://www.foxnews.com/politics/democrats-support-palestinians-over-israel-gop-overwhelmingly-stands-us-ally-2023-poll\"\n",
    "article16= \"https://www.foxnews.com/politics/defense-secretary-issues-plan-bolster-regional-deterrence-efforts-move-warships-increase-forces\"\n",
    "article17= \"https://www.foxnews.com/politics/ramaswamy-offers-us-strategy-plan-israel-blasts-gop-contenders-lack-pragmatic-solutions\"\n",
    "article18= \"https://www.foxnews.com/politics/pentagon-officials-say-attacks-us-troops-iranian-fingerprints\"\n",
    "article19= \"https://www.foxnews.com/world/us-embassy-baghdad-orders-departure-some-non-essential-personnel-increased-security-concerns\"\n",
    "article20= \"https://www.foxnews.com/world/blinken-says-us-ready-get-involved-israel-hamas-war-line-crossed-we-wont-hesitate\"\n",
    "article21= \"https://www.foxnews.com/world/drone-strikes-target-us-military-bases-syria-iraq-regional-tensions-israel-hamas-war-escalate\"\n",
    "article22= \"https://www.foxnews.com/live-news/hamas-attack-israel-war\"\n",
    "article23= \"https://www.foxnews.com/world/iran-threatens-israel-looming-ground-offensive-gaza-report\"\n",
    "article24= \"https://www.foxnews.com/politics/mcconnell-calls-china-russia-iran-new-axis-evil-us-must-deal-emergency\"\n",
    "article25= \"https://www.foxnews.com/media/white-house-spox-pressed-iran-6-billion-unfrozen-funds-hamas-unleashes-terror-israel\"\n",
    "article26= \"https://www.foxnews.com/politics/50-cent-rips-biden-delaware-beach-trip-amid-israel-hamas-war\"\n",
    "article27= \"https://www.foxnews.com/world/american-families-israel-agony-fears-loved-ones-kidnapped-grow\"\n",
    "article28= \"https://www.foxnews.com/politics/white-house-silent-biden-officials-pro-palestine-post-bloodshed-israel\"\n",
    "article29= \"https://www.foxnews.com/media/better-job-americans-grade-president-bidens-handling-war-israel\"\n",
    "article30= \"https://www.foxnews.com/politics/bidens-depletion-emergency-oil-stocks-comes-back-focus-israel-hamas-war-price-surge\""
   ]
  }
 ],
 "metadata": {
  "kernelspec": {
   "display_name": "Python 3 (ipykernel)",
   "language": "python",
   "name": "python3"
  },
  "language_info": {
   "codemirror_mode": {
    "name": "ipython",
    "version": 3
   },
   "file_extension": ".py",
   "mimetype": "text/x-python",
   "name": "python",
   "nbconvert_exporter": "python",
   "pygments_lexer": "ipython3",
   "version": "3.11.4"
  }
 },
 "nbformat": 4,
 "nbformat_minor": 5
}
